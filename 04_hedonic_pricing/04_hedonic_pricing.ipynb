{
 "cells": [
  {
   "cell_type": "markdown",
   "metadata": {
    "vscode": {
     "languageId": "bat"
    }
   },
   "source": [
    "# Hedonic Pricing\n",
    "\n",
    "We often try to predict the price of an asset from its observable characteristics. This is generally called **hedonic pricing**: How do the unit's characteristics determine its market price?\n",
    "\n",
    "In the lab folder, there are three options: housing prices in pierce_county_house_sales.csv, car prices in cars_hw.csv, and airbnb rental prices in airbnb_hw.csv. If you know of another suitable dataset, please feel free to use that one.\n",
    "\n",
    "1. Clean the data and perform some EDA and visualization to get to know the data set.\n",
    "2. Transform your variables --- particularly categorical ones --- for use in your regression analysis.\n",
    "3. Implement an ~80/~20 train-test split. Put the test data aside.\n",
    "4. Build some simple linear models that include no transformations or interactions. Fit them, and determine their RMSE and $R^2$ on the both the training and test sets. Which of your models does the best?\n",
    "5. Include transformations and interactions, and build a more complex model that reflects your ideas about how the features of the asset determine its value. Determine its RMSE and $R^2$ on the training and test sets. How does the more complex model your build compare to the simpler ones?\n",
    "6. Summarize your results from 1 to 5. Have you learned anything about overfitting and underfitting, or model selection?\n",
    "7. If you have time, use the sklearn.linear_model.Lasso to regularize your model and select the most predictive features. Which does it select? What are the RMSE and $R^2$? We'll cover the Lasso later in detail in class.\n",
    "\n"
   ]
  },
  {
   "cell_type": "code",
   "execution_count": 2,
   "metadata": {
    "tags": []
   },
   "outputs": [
    {
     "name": "stdout",
     "output_type": "stream",
     "text": [
      "4985888\n"
     ]
    }
   ],
   "source": [
    "#Part 1\n",
    "import pandas as pd\n",
    "import numpy as np\n",
    "import matplotlib.pyplot as plt\n",
    "import seaborn as sns\n",
    "\n",
    "bnb = pd.read_csv('./airbnb_hw.csv', low_memory=False)\n",
    "price = bnb['Price']\n",
    "price = price.str.replace(',','') #getting rid of the commas in numbers over 999\n",
    "price = pd.to_numeric(price,errors='coerce') #converting all the values to numerics\n",
    "bnb['Price'] = price\n",
    "del price\n",
    "print(sum(bnb['Price']))"
   ]
  },
  {
   "cell_type": "code",
   "execution_count": 3,
   "metadata": {
    "tags": []
   },
   "outputs": [
    {
     "name": "stdout",
     "output_type": "stream",
     "text": [
      "nan\n"
     ]
    }
   ],
   "source": [
    "zipcode = bnb['Zipcode']\n",
    "zipcode = zipcode.replace('.0','') #getting rid of the .0 in the zipcode values\n",
    "zipcode = pd.to_numeric(zipcode,errors='coerce') #converting all the values to numerics\n",
    "bnb['Zipcode'] = zipcode\n",
    "del zipcode\n",
    "print(sum(bnb['Zipcode']))"
   ]
  },
  {
   "cell_type": "code",
   "execution_count": 4,
   "metadata": {
    "tags": []
   },
   "outputs": [
    {
     "data": {
      "text/html": [
       "<div>\n",
       "<style scoped>\n",
       "    .dataframe tbody tr th:only-of-type {\n",
       "        vertical-align: middle;\n",
       "    }\n",
       "\n",
       "    .dataframe tbody tr th {\n",
       "        vertical-align: top;\n",
       "    }\n",
       "\n",
       "    .dataframe thead th {\n",
       "        text-align: right;\n",
       "    }\n",
       "</style>\n",
       "<table border=\"1\" class=\"dataframe\">\n",
       "  <thead>\n",
       "    <tr style=\"text-align: right;\">\n",
       "      <th>Property Type</th>\n",
       "      <th>Apartment</th>\n",
       "      <th>Bed &amp; Breakfast</th>\n",
       "      <th>Boat</th>\n",
       "      <th>Bungalow</th>\n",
       "      <th>Cabin</th>\n",
       "      <th>Camper/RV</th>\n",
       "      <th>Castle</th>\n",
       "      <th>Chalet</th>\n",
       "      <th>Condominium</th>\n",
       "      <th>Dorm</th>\n",
       "      <th>House</th>\n",
       "      <th>Hut</th>\n",
       "      <th>Lighthouse</th>\n",
       "      <th>Loft</th>\n",
       "      <th>Other</th>\n",
       "      <th>Tent</th>\n",
       "      <th>Townhouse</th>\n",
       "      <th>Treehouse</th>\n",
       "      <th>Villa</th>\n",
       "    </tr>\n",
       "    <tr>\n",
       "      <th>Room Type</th>\n",
       "      <th></th>\n",
       "      <th></th>\n",
       "      <th></th>\n",
       "      <th></th>\n",
       "      <th></th>\n",
       "      <th></th>\n",
       "      <th></th>\n",
       "      <th></th>\n",
       "      <th></th>\n",
       "      <th></th>\n",
       "      <th></th>\n",
       "      <th></th>\n",
       "      <th></th>\n",
       "      <th></th>\n",
       "      <th></th>\n",
       "      <th></th>\n",
       "      <th></th>\n",
       "      <th></th>\n",
       "      <th></th>\n",
       "    </tr>\n",
       "  </thead>\n",
       "  <tbody>\n",
       "    <tr>\n",
       "      <th>Entire home/apt</th>\n",
       "      <td>15669</td>\n",
       "      <td>13</td>\n",
       "      <td>7</td>\n",
       "      <td>4</td>\n",
       "      <td>1</td>\n",
       "      <td>6</td>\n",
       "      <td>0</td>\n",
       "      <td>0</td>\n",
       "      <td>72</td>\n",
       "      <td>4</td>\n",
       "      <td>752</td>\n",
       "      <td>0</td>\n",
       "      <td>1</td>\n",
       "      <td>392</td>\n",
       "      <td>14</td>\n",
       "      <td>0</td>\n",
       "      <td>83</td>\n",
       "      <td>0</td>\n",
       "      <td>4</td>\n",
       "    </tr>\n",
       "    <tr>\n",
       "      <th>Private room</th>\n",
       "      <td>10748</td>\n",
       "      <td>155</td>\n",
       "      <td>1</td>\n",
       "      <td>0</td>\n",
       "      <td>1</td>\n",
       "      <td>1</td>\n",
       "      <td>1</td>\n",
       "      <td>1</td>\n",
       "      <td>22</td>\n",
       "      <td>16</td>\n",
       "      <td>1258</td>\n",
       "      <td>2</td>\n",
       "      <td>0</td>\n",
       "      <td>312</td>\n",
       "      <td>29</td>\n",
       "      <td>4</td>\n",
       "      <td>52</td>\n",
       "      <td>1</td>\n",
       "      <td>4</td>\n",
       "    </tr>\n",
       "    <tr>\n",
       "      <th>Shared room</th>\n",
       "      <td>685</td>\n",
       "      <td>12</td>\n",
       "      <td>0</td>\n",
       "      <td>0</td>\n",
       "      <td>0</td>\n",
       "      <td>0</td>\n",
       "      <td>0</td>\n",
       "      <td>0</td>\n",
       "      <td>0</td>\n",
       "      <td>11</td>\n",
       "      <td>80</td>\n",
       "      <td>0</td>\n",
       "      <td>0</td>\n",
       "      <td>49</td>\n",
       "      <td>4</td>\n",
       "      <td>0</td>\n",
       "      <td>1</td>\n",
       "      <td>3</td>\n",
       "      <td>0</td>\n",
       "    </tr>\n",
       "  </tbody>\n",
       "</table>\n",
       "</div>"
      ],
      "text/plain": [
       "Property Type    Apartment  Bed & Breakfast  Boat  Bungalow  Cabin  Camper/RV  \\\n",
       "Room Type                                                                       \n",
       "Entire home/apt      15669               13     7         4      1          6   \n",
       "Private room         10748              155     1         0      1          1   \n",
       "Shared room            685               12     0         0      0          0   \n",
       "\n",
       "Property Type    Castle  Chalet  Condominium  Dorm  House  Hut  Lighthouse  \\\n",
       "Room Type                                                                    \n",
       "Entire home/apt       0       0           72     4    752    0           1   \n",
       "Private room          1       1           22    16   1258    2           0   \n",
       "Shared room           0       0            0    11     80    0           0   \n",
       "\n",
       "Property Type    Loft  Other  Tent  Townhouse  Treehouse  Villa  \n",
       "Room Type                                                        \n",
       "Entire home/apt   392     14     0         83          0      4  \n",
       "Private room      312     29     4         52          1      4  \n",
       "Shared room        49      4     0          1          3      0  "
      ]
     },
     "execution_count": 4,
     "metadata": {},
     "output_type": "execute_result"
    }
   ],
   "source": [
    "bnb_crosstab = pd.crosstab(bnb['Room Type'], bnb['Property Type'])\n",
    "bnb_crosstab"
   ]
  },
  {
   "cell_type": "code",
   "execution_count": 5,
   "metadata": {
    "tags": []
   },
   "outputs": [
    {
     "data": {
      "text/plain": [
       "<Axes: xlabel='Price', ylabel='Count'>"
      ]
     },
     "execution_count": 5,
     "metadata": {},
     "output_type": "execute_result"
    },
    {
     "data": {
      "image/png": "[encoded data removed]",
      "text/plain": [
       "<Figure size 640x480 with 1 Axes>"
      ]
     },
     "metadata": {},
     "output_type": "display_data"
    }
   ],
   "source": [
    "sns.histplot(data=bnb,x='Price')"
   ]
  },
  {
   "cell_type": "code",
   "execution_count": 6,
   "metadata": {
    "tags": []
   },
   "outputs": [
    {
     "data": {
      "text/plain": [
       "count    30478.000000\n",
       "mean       163.589737\n",
       "std        197.785454\n",
       "min         10.000000\n",
       "25%         80.000000\n",
       "50%        125.000000\n",
       "75%        195.000000\n",
       "max      10000.000000\n",
       "Name: Price, dtype: float64"
      ]
     },
     "execution_count": 6,
     "metadata": {},
     "output_type": "execute_result"
    }
   ],
   "source": [
    "bnb['Price'].describe()"
   ]
  },
  {
   "cell_type": "code",
   "execution_count": 7,
   "metadata": {
    "tags": []
   },
   "outputs": [
    {
     "data": {
      "text/plain": [
       "<Axes: xlabel='Beds', ylabel='Price'>"
      ]
     },
     "execution_count": 7,
     "metadata": {},
     "output_type": "execute_result"
    },
    {
     "data": {
      "image/png": "[encoded data removed]",
      "text/plain": [
       "<Figure size 640x480 with 1 Axes>"
      ]
     },
     "metadata": {},
     "output_type": "display_data"
    }
   ],
   "source": [
    "sns.scatterplot(data=bnb,y='Price',x='Beds')"
   ]
  },
  {
   "cell_type": "code",
   "execution_count": 8,
   "metadata": {
    "tags": []
   },
   "outputs": [
    {
     "data": {
      "text/plain": [
       "<Axes: xlabel='Price_log', ylabel='Count'>"
      ]
     },
     "execution_count": 8,
     "metadata": {},
     "output_type": "execute_result"
    },
    {
     "data": {
      "image/png": "[encoded data removed]",
      "text/plain": [
       "<Figure size 640x480 with 1 Axes>"
      ]
     },
     "metadata": {},
     "output_type": "display_data"
    }
   ],
   "source": [
    "#Part 2\n",
    "\n",
    "bnb['Price_log'] = np.log(bnb['Price'])\n",
    "sns.histplot(data=bnb,x='Price_log')"
   ]
  },
  {
   "cell_type": "code",
   "execution_count": 9,
   "metadata": {
    "tags": []
   },
   "outputs": [
    {
     "data": {
      "text/plain": [
       "count    30478.000000\n",
       "mean         4.860495\n",
       "std          0.627704\n",
       "min          2.302585\n",
       "25%          4.382027\n",
       "50%          4.828314\n",
       "75%          5.273000\n",
       "max          9.210340\n",
       "Name: Price_log, dtype: float64"
      ]
     },
     "execution_count": 9,
     "metadata": {},
     "output_type": "execute_result"
    }
   ],
   "source": [
    "bnb['Price_log'].describe()"
   ]
  },
  {
   "cell_type": "code",
   "execution_count": 10,
   "metadata": {
    "tags": []
   },
   "outputs": [],
   "source": [
    "beds = bnb['Beds']\n",
    "beds = pd.to_numeric(beds,errors='coerce') #converting all the values to numerics\n",
    "bnb['Beds'] = beds\n",
    "del beds\n",
    "bnb.dropna(inplace=True)"
   ]
  },
  {
   "cell_type": "code",
   "execution_count": 11,
   "metadata": {},
   "outputs": [],
   "source": [
    "#Part 3\n",
    "\n",
    "from sklearn.model_selection import train_test_split\n",
    "y = bnb['Price']\n",
    "X = bnb.loc[:,['Beds', 'Neighbourhood '] ]\n",
    "X_train, X_test, y_train, y_test = train_test_split(X,y,test_size=.2,random_state=100)"
   ]
  },
  {
   "cell_type": "code",
   "execution_count": 12,
   "metadata": {},
   "outputs": [
    {
     "name": "stdout",
     "output_type": "stream",
     "text": [
      "R^2 test:  0.2684206711171696\n",
      "R^2 train:  0.17577690902531828\n",
      "RMSE test:  96.64258261364563\n",
      "RMSE train:  142.2581904436082\n"
     ]
    },
    {
     "data": {
      "text/html": [
       "<div>\n",
       "<style scoped>\n",
       "    .dataframe tbody tr th:only-of-type {\n",
       "        vertical-align: middle;\n",
       "    }\n",
       "\n",
       "    .dataframe tbody tr th {\n",
       "        vertical-align: top;\n",
       "    }\n",
       "\n",
       "    .dataframe thead th {\n",
       "        text-align: right;\n",
       "    }\n",
       "</style>\n",
       "<table border=\"1\" class=\"dataframe\">\n",
       "  <thead>\n",
       "    <tr style=\"text-align: right;\">\n",
       "      <th></th>\n",
       "      <th>variable</th>\n",
       "      <th>coefficient</th>\n",
       "    </tr>\n",
       "  </thead>\n",
       "  <tbody>\n",
       "    <tr>\n",
       "      <th>0</th>\n",
       "      <td>Beds</td>\n",
       "      <td>54.498296</td>\n",
       "    </tr>\n",
       "    <tr>\n",
       "      <th>1</th>\n",
       "      <td>Bronx</td>\n",
       "      <td>-9.585038</td>\n",
       "    </tr>\n",
       "    <tr>\n",
       "      <th>2</th>\n",
       "      <td>Brooklyn</td>\n",
       "      <td>40.639123</td>\n",
       "    </tr>\n",
       "    <tr>\n",
       "      <th>3</th>\n",
       "      <td>Manhattan</td>\n",
       "      <td>101.327086</td>\n",
       "    </tr>\n",
       "    <tr>\n",
       "      <th>4</th>\n",
       "      <td>Queens</td>\n",
       "      <td>11.144532</td>\n",
       "    </tr>\n",
       "    <tr>\n",
       "      <th>5</th>\n",
       "      <td>Staten Island</td>\n",
       "      <td>48.206208</td>\n",
       "    </tr>\n",
       "  </tbody>\n",
       "</table>\n",
       "</div>"
      ],
      "text/plain": [
       "        variable  coefficient\n",
       "0           Beds    54.498296\n",
       "1          Bronx    -9.585038\n",
       "2       Brooklyn    40.639123\n",
       "3      Manhattan   101.327086\n",
       "4         Queens    11.144532\n",
       "5  Staten Island    48.206208"
      ]
     },
     "execution_count": 12,
     "metadata": {},
     "output_type": "execute_result"
    }
   ],
   "source": [
    "#Part 4\n",
    "from sklearn import linear_model\n",
    "Z_train = pd.concat([X_train['Beds'], pd.get_dummies(X_train['Neighbourhood '], dtype='int')], axis = 1)\n",
    "Z_test = pd.concat([X_test['Beds'], pd.get_dummies(X_test['Neighbourhood '], dtype='int')], axis = 1)\n",
    "\n",
    "regression = linear_model.LinearRegression(fit_intercept=False).fit(Z_train,y_train)\n",
    "print('R^2 test: ', regression.score(Z_test,y_test))\n",
    "print('R^2 train: ', regression.score(Z_train,y_train))\n",
    "\n",
    "y_hat_test = regression.predict(Z_test)\n",
    "y_hat_train = regression.predict(Z_train)\n",
    "rmse_test = np.sqrt( np.mean( (y_test - y_hat_test)**2 ))\n",
    "rmse_train = np.sqrt( np.mean( (y_train - y_hat_train)**2 ))\n",
    "print('RMSE test: ', rmse_test)\n",
    "print('RMSE train: ', rmse_train)\n",
    "\n",
    "coef = pd.DataFrame({'variable':regression.feature_names_in_, 'coefficient': regression.coef_})\n",
    "coef"
   ]
  },
  {
   "cell_type": "code",
   "execution_count": 13,
   "metadata": {},
   "outputs": [
    {
     "name": "stdout",
     "output_type": "stream",
     "text": [
      "R^2 test:  0.318718287022267\n",
      "R^2 train:  0.20350849998975584\n",
      "RMSE test:  93.26123885708641\n",
      "RMSE train:  139.84452371418038\n"
     ]
    },
    {
     "data": {
      "text/html": [
       "<div>\n",
       "<style scoped>\n",
       "    .dataframe tbody tr th:only-of-type {\n",
       "        vertical-align: middle;\n",
       "    }\n",
       "\n",
       "    .dataframe tbody tr th {\n",
       "        vertical-align: top;\n",
       "    }\n",
       "\n",
       "    .dataframe thead th {\n",
       "        text-align: right;\n",
       "    }\n",
       "</style>\n",
       "<table border=\"1\" class=\"dataframe\">\n",
       "  <thead>\n",
       "    <tr style=\"text-align: right;\">\n",
       "      <th></th>\n",
       "      <th>variable</th>\n",
       "      <th>coefficient</th>\n",
       "    </tr>\n",
       "  </thead>\n",
       "  <tbody>\n",
       "    <tr>\n",
       "      <th>0</th>\n",
       "      <td>Beds</td>\n",
       "      <td>40.282116</td>\n",
       "    </tr>\n",
       "    <tr>\n",
       "      <th>1</th>\n",
       "      <td>Entire home/apt</td>\n",
       "      <td>130.758522</td>\n",
       "    </tr>\n",
       "    <tr>\n",
       "      <th>2</th>\n",
       "      <td>Private room</td>\n",
       "      <td>41.769912</td>\n",
       "    </tr>\n",
       "    <tr>\n",
       "      <th>3</th>\n",
       "      <td>Shared room</td>\n",
       "      <td>9.828239</td>\n",
       "    </tr>\n",
       "  </tbody>\n",
       "</table>\n",
       "</div>"
      ],
      "text/plain": [
       "          variable  coefficient\n",
       "0             Beds    40.282116\n",
       "1  Entire home/apt   130.758522\n",
       "2     Private room    41.769912\n",
       "3      Shared room     9.828239"
      ]
     },
     "execution_count": 13,
     "metadata": {},
     "output_type": "execute_result"
    }
   ],
   "source": [
    "y = bnb['Price']\n",
    "X = bnb.loc[:,['Beds', 'Room Type'] ]\n",
    "X_train, X_test, y_train, y_test = train_test_split(X,y,test_size=.2,random_state=100)\n",
    "\n",
    "Z_train = pd.concat([X_train['Beds'], pd.get_dummies(X_train['Room Type'], dtype='int')], axis = 1)\n",
    "Z_test = pd.concat([X_test['Beds'], pd.get_dummies(X_test['Room Type'], dtype='int')], axis = 1)\n",
    "\n",
    "regression = linear_model.LinearRegression(fit_intercept=False).fit(Z_train,y_train)\n",
    "print('R^2 test: ', regression.score(Z_test,y_test))\n",
    "print('R^2 train: ', regression.score(Z_train,y_train))\n",
    "\n",
    "y_hat_test = regression.predict(Z_test)\n",
    "y_hat_train = regression.predict(Z_train)\n",
    "rmse_test = np.sqrt( np.mean( (y_test - y_hat_test)**2 ))\n",
    "rmse_train = np.sqrt( np.mean( (y_train - y_hat_train)**2 ))\n",
    "print('RMSE test: ', rmse_test)\n",
    "print('RMSE train: ', rmse_train)\n",
    "\n",
    "coef = pd.DataFrame({'variable':regression.feature_names_in_, 'coefficient': regression.coef_})\n",
    "coef"
   ]
  },
  {
   "cell_type": "markdown",
   "metadata": {},
   "source": [
    "> My model that regressed Price on Beds and Room Type did the best"
   ]
  },
  {
   "cell_type": "code",
   "execution_count": 14,
   "metadata": {
    "tags": []
   },
   "outputs": [
    {
     "name": "stdout",
     "output_type": "stream",
     "text": [
      "R^2 test:  0.5854861296200001\n",
      "R^2 train:  0.5793830803192841\n",
      "RMSE test:  0.37288355344285007\n",
      "RMSE train:  0.3814887176287743\n"
     ]
    },
    {
     "data": {
      "text/html": [
       "<div>\n",
       "<style scoped>\n",
       "    .dataframe tbody tr th:only-of-type {\n",
       "        vertical-align: middle;\n",
       "    }\n",
       "\n",
       "    .dataframe tbody tr th {\n",
       "        vertical-align: top;\n",
       "    }\n",
       "\n",
       "    .dataframe thead th {\n",
       "        text-align: right;\n",
       "    }\n",
       "</style>\n",
       "<table border=\"1\" class=\"dataframe\">\n",
       "  <thead>\n",
       "    <tr style=\"text-align: right;\">\n",
       "      <th></th>\n",
       "      <th>variable</th>\n",
       "      <th>coefficient</th>\n",
       "    </tr>\n",
       "  </thead>\n",
       "  <tbody>\n",
       "    <tr>\n",
       "      <th>0</th>\n",
       "      <td>Beds</td>\n",
       "      <td>1.387497e-01</td>\n",
       "    </tr>\n",
       "    <tr>\n",
       "      <th>1</th>\n",
       "      <td>Bronx</td>\n",
       "      <td>-3.773269e+11</td>\n",
       "    </tr>\n",
       "    <tr>\n",
       "      <th>2</th>\n",
       "      <td>Brooklyn</td>\n",
       "      <td>-3.773269e+11</td>\n",
       "    </tr>\n",
       "    <tr>\n",
       "      <th>3</th>\n",
       "      <td>Manhattan</td>\n",
       "      <td>-3.773269e+11</td>\n",
       "    </tr>\n",
       "    <tr>\n",
       "      <th>4</th>\n",
       "      <td>Queens</td>\n",
       "      <td>-3.773269e+11</td>\n",
       "    </tr>\n",
       "    <tr>\n",
       "      <th>5</th>\n",
       "      <td>Staten Island</td>\n",
       "      <td>-3.773269e+11</td>\n",
       "    </tr>\n",
       "    <tr>\n",
       "      <th>6</th>\n",
       "      <td>Entire home/apt</td>\n",
       "      <td>3.773269e+11</td>\n",
       "    </tr>\n",
       "    <tr>\n",
       "      <th>7</th>\n",
       "      <td>Private room</td>\n",
       "      <td>3.773269e+11</td>\n",
       "    </tr>\n",
       "    <tr>\n",
       "      <th>8</th>\n",
       "      <td>Shared room</td>\n",
       "      <td>3.773269e+11</td>\n",
       "    </tr>\n",
       "  </tbody>\n",
       "</table>\n",
       "</div>"
      ],
      "text/plain": [
       "          variable   coefficient\n",
       "0             Beds  1.387497e-01\n",
       "1            Bronx -3.773269e+11\n",
       "2         Brooklyn -3.773269e+11\n",
       "3        Manhattan -3.773269e+11\n",
       "4           Queens -3.773269e+11\n",
       "5    Staten Island -3.773269e+11\n",
       "6  Entire home/apt  3.773269e+11\n",
       "7     Private room  3.773269e+11\n",
       "8      Shared room  3.773269e+11"
      ]
     },
     "execution_count": 14,
     "metadata": {},
     "output_type": "execute_result"
    }
   ],
   "source": [
    "#Part 5\n",
    "\n",
    "y = bnb['Price_log']\n",
    "X = bnb.loc[:,['Beds', 'Neighbourhood ', 'Room Type'] ]\n",
    "X_train, X_test, y_train, y_test = train_test_split(X,y,test_size=.2,random_state=100)\n",
    "\n",
    "Z_train = pd.concat([X_train['Beds'], pd.get_dummies(X_train['Neighbourhood '], dtype='int'), pd.get_dummies(X_train['Room Type'], dtype='int')], axis = 1)\n",
    "Z_test = pd.concat([X_test['Beds'],  pd.get_dummies(X_test['Neighbourhood '], dtype='int'), pd.get_dummies(X_test['Room Type'], dtype='int')], axis = 1)\n",
    "\n",
    "regression = linear_model.LinearRegression(fit_intercept=False).fit(Z_train,y_train)\n",
    "print('R^2 test: ', regression.score(Z_test,y_test))\n",
    "print('R^2 train: ', regression.score(Z_train,y_train))\n",
    "\n",
    "y_hat_test = regression.predict(Z_test)\n",
    "y_hat_train = regression.predict(Z_train)\n",
    "rmse_test = np.sqrt( np.mean( (y_test - y_hat_test)**2 ))\n",
    "rmse_train = np.sqrt( np.mean( (y_train - y_hat_train)**2 ))\n",
    "print('RMSE test: ', rmse_test)\n",
    "print('RMSE train: ', rmse_train)\n",
    "\n",
    "coef = pd.DataFrame({'variable':regression.feature_names_in_, 'coefficient': regression.coef_})\n",
    "coef"
   ]
  },
  {
   "cell_type": "markdown",
   "metadata": {
    "tags": []
   },
   "source": [
    "#Part 6\n",
    "\n",
    "All of my simpler models had low R^2 Values and high RMSE values. This suggests a greater seperation on average between my model's predictions and the actual values, and the low R^2 values show that little of the variability in the data is explained by the model. This means my model did not fit the data quite right. I believe this is due to my use in the variable of number of beds (which I originially thought would have given my regressor model a good prediction over price) did not have as much to do with price and thus hurt the predictability of my regressor model. I believe underfitted the data as I think the model was too simple to properly predict price of the air bnb units. I think that if I had transformed some of the categorical variables better, I could've have perhaps trained my regressor to be more accurate. In my more complex fit, where I used a transformed version of my Price variable, I found higher R^2 values and very low RMSE values. The the low RMSE values make sense to me as my transformation of Price using log took out a lot of the big differences in magnitude of some of the values and thus explains the less seperation on average between the model's predictions and the actual values. I believe my more complex model overfitted the data a bit as the model probably generalized the patterns instead of being able to apply them to new data as well. "
   ]
  },
  {
   "cell_type": "code",
   "execution_count": null,
   "metadata": {},
   "outputs": [],
   "source": []
  },
  {
   "cell_type": "code",
   "execution_count": null,
   "metadata": {},
   "outputs": [],
   "source": []
  }
 ],
 "metadata": {
  "kernelspec": {
   "display_name": "Python 3 (ipykernel)",
   "language": "python",
   "name": "python3"
  },
  "language_info": {
   "codemirror_mode": {
    "name": "ipython",
    "version": 3
   },
   "file_extension": ".py",
   "mimetype": "text/x-python",
   "name": "python",
   "nbconvert_exporter": "python",
   "pygments_lexer": "ipython3",
   "version": "3.11.4"
  }
 },
 "nbformat": 4,
 "nbformat_minor": 4
}
