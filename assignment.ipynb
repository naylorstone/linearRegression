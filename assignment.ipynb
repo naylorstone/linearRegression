{
 "cells": [
  {
   "cell_type": "markdown",
   "id": "e0c7b14a-e5aa-4abc-b48b-b8a9d20dacac",
   "metadata": {
    "id": "e0c7b14a-e5aa-4abc-b48b-b8a9d20dacac"
   },
   "source": [
    "# Assignment: Linear Models\n",
    "## Foundations of Machine Learning\n",
    "## Do Q1 and one other question"
   ]
  },
  {
   "cell_type": "markdown",
   "id": "bf4826b0",
   "metadata": {
    "id": "bf4826b0"
   },
   "source": [
    "**Q0.** Please answer the following questions in your own words.\n",
    "\n",
    "1. What makes a model \"linear\"? \"Linear\" in what?\n",
    "2. How do you interpret the coefficient for a dummy/one-hot-encoded variable? (This is a trick question, and the trick involves how you handle the intercept of the model.)\n",
    "3. Can linear regression be used for classification? Explain why, or why not.\n",
    "4. What are signs that your linear model is over-fitting?\n",
    "5. Clearly explain multi-colinearity using the two-stage least squares technique.\n",
    "6. What are two ways to incorporate nonlinear relationships between your target/response/dependent/outcome variable $y$ and your features/control/response/independent variables $x$?\n",
    "7. What is the interpretation of the intercept? A slope coefficient for a variable? The coefficient for a dummy/one-hot-encoded variable?"
   ]
  },
  {
   "cell_type": "markdown",
   "id": "806bfaed-f447-42bd-b4ba-d6bd62d17e57",
   "metadata": {},
   "source": [
    "#Part 1\n",
    "A model is linear if the dependent variable is a linear combination of coefficients and the independent variable. It is linear in the way that it isn't scaled differently as the independent variable changes; ie, the slope stays constant. \n",
    "\n",
    "#Part 2\n",
    "I interpret the coefficient to be the change in the dependent variable when a specific category (from the dummy variable) is present.\n",
    "\n",
    "#Part 3\n",
    "Linear regression can be use for classification and it works well when being used to predict a continuous probability score in binary data. The linearity that linear regression inately assumes, however, isn't ideal in many classification applications.\n",
    "\n",
    "#Part 4\n",
    "A low RMSE and high R^2 on the training set compared to the test set could suggest that the model has too many predictors and is overcomplicating the training model, resulting in over-fitting the data.\n",
    "\n",
    "#Part 5\n",
    "Multicolinearity occurs when independent variables in a regression model are highly correlated causing changes in one predictor to be associated with changes in another. The first stage of the least squares technique calls for running regression on the problematic predictor on a variable associated with it. In stage 2, predicted values that come from this regression of stage 1 can be used as replacement for the original problematic predictor. The least squares technique thus allows for the problems of Multicolinearity to be fixed!\n",
    "\n",
    "#Part 6\n",
    "One way to to incorporate nonlinear relationships between your target variable y and feature x is to add polinomial terms (adding exponents to the feature variable), thus allowing for the predictor model to capture curved relationships. Another way would be to apply log transformations to either variable, like we've been doing in class!\n",
    "\n",
    "#Part 7\n",
    "The intercept is the value of the dependent variable when all of the independent variables are equal to 0. The slope represents the change in the dependent variable after a one-step change in the dependent variable. The coefficient of the dummy variable represents the change in the dependent variable when the category from the dummy variable is present. "
   ]
  },
  {
   "cell_type": "markdown",
   "id": "25bf83c6-ff44-42d6-9b33-8be1b945860d",
   "metadata": {
    "id": "25bf83c6-ff44-42d6-9b33-8be1b945860d"
   },
   "source": [
    "**Q1.** Load `./data/Q1_clean.csv`. The data include\n",
    "\n",
    "- `Price` per night\n",
    "- `Review Scores Rating`: The average rating for the property\n",
    "- `Neighbourhood `: The bourough of NYC. Note the space, or rename the variable.\n",
    "- `Property Type`: The kind of dwelling\n",
    "- `Room Type`: The kind of space being rented\n",
    "\n",
    "1. Compute the average prices and scores by `Neighbourhood `; which bourough is the most expensive on average? Create a kernel density plot of price and log price, grouping by `Neighbourhood `.\n",
    "2. Regress price on `Neighbourhood ` by creating the appropriate dummy/one-hot-encoded variables, without an intercept in the linear model and using all the data. Compare the coefficients in the regression to the table from part 1. What pattern do you see? What are the coefficients in a regression of a continuous variable on one categorical variable?\n",
    "3. Repeat part 2, but leave an intercept in the linear model. How do you have to handle the creation of the dummies differently? What is the intercept? Interpret the coefficients. How can I get the coefficients in part 2 from these new coefficients?\n",
    "4. Split the sample 80/20 into a training and a test set. Run a regression of `Price` on `Review Scores Rating` and `Neighbourhood `. What is the $R^2$ and RMSE on the test set? What is the coefficient on `Review Scores Rating`? What is the most expensive kind of property you can rent?\n",
    "5. Split the sample 80/20 into a training and a test set. Run a regression of `Price` on `Review Scores Rating` and `Neighbourhood ` and `Property Type`. What is the $R^2$ and RMSE on the test set? What is the coefficient on `Review Scores Rating`? What is the most expensive kind of property you can rent?\n",
    "6. What does the coefficient on `Review Scores Rating` mean if it changes from part 4 to 5? Hint: Think about how multilple linear regression works.\n",
    "7. (Optional) We've included `Neighborhood ` and `Property Type` separately in the model. How do you interact them, so you can have \"A bedroom in Queens\" or \"A townhouse in Manhattan\". Split the sample 80/20 into a training and a test set and run a regression including that kind of \"property type X neighborhood\" dummy, plus `Review Scores Rating`. How does the slope coefficient for `Review Scores Rating`, the $R^2$, and the RMSE change? Do they increase significantly compares to part 5? Are the coefficients in this regression just the sum of the coefficients for `Neighbourhood ` and `Property Type` from 5? What is the most expensive kind of property you can rent?"
   ]
  },
  {
   "cell_type": "markdown",
   "id": "bce4a0b3-8f8e-4bbc-b430-7a3ae7dbd0b2",
   "metadata": {},
   "source": [
    "1. Compute the average prices and scores by `Neighbourhood `; which bourough is the most expensive on average? Create a kernel density plot of price and log price, grouping by `Neighbourhood `."
   ]
  },
  {
   "cell_type": "code",
   "execution_count": 13,
   "id": "295f3690-c692-463f-bd67-a378079760da",
   "metadata": {
    "tags": []
   },
   "outputs": [
    {
     "data": {
      "text/html": [
       "<div>\n",
       "<style scoped>\n",
       "    .dataframe tbody tr th:only-of-type {\n",
       "        vertical-align: middle;\n",
       "    }\n",
       "\n",
       "    .dataframe tbody tr th {\n",
       "        vertical-align: top;\n",
       "    }\n",
       "\n",
       "    .dataframe thead th {\n",
       "        text-align: right;\n",
       "    }\n",
       "</style>\n",
       "<table border=\"1\" class=\"dataframe\">\n",
       "  <thead>\n",
       "    <tr style=\"text-align: right;\">\n",
       "      <th></th>\n",
       "      <th>Price</th>\n",
       "      <th>Review Scores Rating</th>\n",
       "      <th>Neighbourhood</th>\n",
       "      <th>Property Type</th>\n",
       "      <th>Room Type</th>\n",
       "    </tr>\n",
       "  </thead>\n",
       "  <tbody>\n",
       "    <tr>\n",
       "      <th>0</th>\n",
       "      <td>549</td>\n",
       "      <td>96.0</td>\n",
       "      <td>Manhattan</td>\n",
       "      <td>Apartment</td>\n",
       "      <td>Private room</td>\n",
       "    </tr>\n",
       "    <tr>\n",
       "      <th>1</th>\n",
       "      <td>149</td>\n",
       "      <td>100.0</td>\n",
       "      <td>Brooklyn</td>\n",
       "      <td>Apartment</td>\n",
       "      <td>Entire home/apt</td>\n",
       "    </tr>\n",
       "    <tr>\n",
       "      <th>2</th>\n",
       "      <td>250</td>\n",
       "      <td>100.0</td>\n",
       "      <td>Manhattan</td>\n",
       "      <td>Apartment</td>\n",
       "      <td>Entire home/apt</td>\n",
       "    </tr>\n",
       "    <tr>\n",
       "      <th>3</th>\n",
       "      <td>90</td>\n",
       "      <td>94.0</td>\n",
       "      <td>Brooklyn</td>\n",
       "      <td>Apartment</td>\n",
       "      <td>Private room</td>\n",
       "    </tr>\n",
       "    <tr>\n",
       "      <th>4</th>\n",
       "      <td>270</td>\n",
       "      <td>90.0</td>\n",
       "      <td>Manhattan</td>\n",
       "      <td>Apartment</td>\n",
       "      <td>Entire home/apt</td>\n",
       "    </tr>\n",
       "  </tbody>\n",
       "</table>\n",
       "</div>"
      ],
      "text/plain": [
       "   Price  Review Scores Rating Neighbourhood  Property Type        Room Type\n",
       "0    549                  96.0      Manhattan     Apartment     Private room\n",
       "1    149                 100.0       Brooklyn     Apartment  Entire home/apt\n",
       "2    250                 100.0      Manhattan     Apartment  Entire home/apt\n",
       "3     90                  94.0       Brooklyn     Apartment     Private room\n",
       "4    270                  90.0      Manhattan     Apartment  Entire home/apt"
      ]
     },
     "execution_count": 13,
     "metadata": {},
     "output_type": "execute_result"
    }
   ],
   "source": [
    "import numpy as np\n",
    "import matplotlib.pyplot as plt\n",
    "import pandas as pd\n",
    "import seaborn as sns\n",
    "\n",
    "df = pd.read_csv('./data/Q1_clean.csv', low_memory = False)\n",
    "df.head()"
   ]
  },
  {
   "cell_type": "code",
   "execution_count": 14,
   "id": "50f0c7b2-bef0-494f-89f1-5a26034be81d",
   "metadata": {
    "tags": []
   },
   "outputs": [
    {
     "data": {
      "text/html": [
       "<div>\n",
       "<style scoped>\n",
       "    .dataframe tbody tr th:only-of-type {\n",
       "        vertical-align: middle;\n",
       "    }\n",
       "\n",
       "    .dataframe tbody tr th {\n",
       "        vertical-align: top;\n",
       "    }\n",
       "\n",
       "    .dataframe thead tr th {\n",
       "        text-align: left;\n",
       "    }\n",
       "\n",
       "    .dataframe thead tr:last-of-type th {\n",
       "        text-align: right;\n",
       "    }\n",
       "</style>\n",
       "<table border=\"1\" class=\"dataframe\">\n",
       "  <thead>\n",
       "    <tr>\n",
       "      <th></th>\n",
       "      <th colspan=\"8\" halign=\"left\">Price</th>\n",
       "    </tr>\n",
       "    <tr>\n",
       "      <th></th>\n",
       "      <th>count</th>\n",
       "      <th>mean</th>\n",
       "      <th>std</th>\n",
       "      <th>min</th>\n",
       "      <th>25%</th>\n",
       "      <th>50%</th>\n",
       "      <th>75%</th>\n",
       "      <th>max</th>\n",
       "    </tr>\n",
       "    <tr>\n",
       "      <th>Neighbourhood</th>\n",
       "      <th></th>\n",
       "      <th></th>\n",
       "      <th></th>\n",
       "      <th></th>\n",
       "      <th></th>\n",
       "      <th></th>\n",
       "      <th></th>\n",
       "      <th></th>\n",
       "    </tr>\n",
       "  </thead>\n",
       "  <tbody>\n",
       "    <tr>\n",
       "      <th>Bronx</th>\n",
       "      <td>217.0</td>\n",
       "      <td>75.276498</td>\n",
       "      <td>39.755468</td>\n",
       "      <td>10.0</td>\n",
       "      <td>50.00</td>\n",
       "      <td>60.0</td>\n",
       "      <td>90.0</td>\n",
       "      <td>244.0</td>\n",
       "    </tr>\n",
       "    <tr>\n",
       "      <th>Brooklyn</th>\n",
       "      <td>8487.0</td>\n",
       "      <td>127.747378</td>\n",
       "      <td>106.038466</td>\n",
       "      <td>20.0</td>\n",
       "      <td>75.00</td>\n",
       "      <td>100.0</td>\n",
       "      <td>150.0</td>\n",
       "      <td>4500.0</td>\n",
       "    </tr>\n",
       "    <tr>\n",
       "      <th>Manhattan</th>\n",
       "      <td>11763.0</td>\n",
       "      <td>183.664286</td>\n",
       "      <td>170.434606</td>\n",
       "      <td>25.0</td>\n",
       "      <td>103.00</td>\n",
       "      <td>150.0</td>\n",
       "      <td>214.0</td>\n",
       "      <td>10000.0</td>\n",
       "    </tr>\n",
       "    <tr>\n",
       "      <th>Queens</th>\n",
       "      <td>1590.0</td>\n",
       "      <td>96.857233</td>\n",
       "      <td>61.712648</td>\n",
       "      <td>25.0</td>\n",
       "      <td>60.00</td>\n",
       "      <td>80.0</td>\n",
       "      <td>115.0</td>\n",
       "      <td>950.0</td>\n",
       "    </tr>\n",
       "    <tr>\n",
       "      <th>Staten Island</th>\n",
       "      <td>96.0</td>\n",
       "      <td>146.166667</td>\n",
       "      <td>508.462029</td>\n",
       "      <td>35.0</td>\n",
       "      <td>54.75</td>\n",
       "      <td>71.0</td>\n",
       "      <td>99.0</td>\n",
       "      <td>5000.0</td>\n",
       "    </tr>\n",
       "  </tbody>\n",
       "</table>\n",
       "</div>"
      ],
      "text/plain": [
       "                  Price                                                      \\\n",
       "                  count        mean         std   min     25%    50%    75%   \n",
       "Neighbourhood                                                                 \n",
       "Bronx             217.0   75.276498   39.755468  10.0   50.00   60.0   90.0   \n",
       "Brooklyn         8487.0  127.747378  106.038466  20.0   75.00  100.0  150.0   \n",
       "Manhattan       11763.0  183.664286  170.434606  25.0  103.00  150.0  214.0   \n",
       "Queens           1590.0   96.857233   61.712648  25.0   60.00   80.0  115.0   \n",
       "Staten Island      96.0  146.166667  508.462029  35.0   54.75   71.0   99.0   \n",
       "\n",
       "                         \n",
       "                    max  \n",
       "Neighbourhood            \n",
       "Bronx             244.0  \n",
       "Brooklyn         4500.0  \n",
       "Manhattan       10000.0  \n",
       "Queens            950.0  \n",
       "Staten Island    5000.0  "
      ]
     },
     "execution_count": 14,
     "metadata": {},
     "output_type": "execute_result"
    }
   ],
   "source": [
    "df.loc[:,['Price','Neighbourhood '] ].groupby('Neighbourhood ').describe()"
   ]
  },
  {
   "cell_type": "markdown",
   "id": "40871f3f-bf9e-4790-9ec5-058da45c279c",
   "metadata": {},
   "source": [
    "> On average, Manhattan is the most expensive bourough."
   ]
  },
  {
   "cell_type": "code",
   "execution_count": 15,
   "id": "7c78b11b-e6bf-49ce-84f1-d27355a5d487",
   "metadata": {
    "tags": []
   },
   "outputs": [
    {
     "data": {
      "image/png": "[encoded data removed]",
      "text/plain": [
       "<Figure size 640x480 with 1 Axes>"
      ]
     },
     "metadata": {},
     "output_type": "display_data"
    },
    {
     "data": {
      "image/png": "[encoded data removed]",
      "text/plain": [
       "<Figure size 640x480 with 1 Axes>"
      ]
     },
     "metadata": {},
     "output_type": "display_data"
    }
   ],
   "source": [
    "sns.kdeplot(x=df['Price'], hue=df['Neighbourhood '])\n",
    "plt.show()\n",
    "\n",
    "sns.kdeplot(x=np.log(df['Price']), hue=df['Neighbourhood '])\n",
    "plt.show()"
   ]
  },
  {
   "cell_type": "markdown",
   "id": "d55d8f38-77f8-46e5-a0c4-101268a9c6a1",
   "metadata": {},
   "source": [
    "2. Regress price on `Neighbourhood ` by creating the appropriate dummy/one-hot-encoded variables, without an intercept in the linear model and using all the data. Compare the coefficients in the regression to the table from part 1. What pattern do you see? What are the coefficients in a regression of a continuous variable on one categorical variable?"
   ]
  },
  {
   "cell_type": "code",
   "execution_count": 16,
   "id": "64eb5339-bf58-4c4c-9cf8-469ab1e7d7fe",
   "metadata": {
    "tags": []
   },
   "outputs": [
    {
     "data": {
      "text/html": [
       "<div>\n",
       "<style scoped>\n",
       "    .dataframe tbody tr th:only-of-type {\n",
       "        vertical-align: middle;\n",
       "    }\n",
       "\n",
       "    .dataframe tbody tr th {\n",
       "        vertical-align: top;\n",
       "    }\n",
       "\n",
       "    .dataframe thead th {\n",
       "        text-align: right;\n",
       "    }\n",
       "</style>\n",
       "<table border=\"1\" class=\"dataframe\">\n",
       "  <thead>\n",
       "    <tr style=\"text-align: right;\">\n",
       "      <th></th>\n",
       "      <th>variable</th>\n",
       "      <th>coefficient</th>\n",
       "    </tr>\n",
       "  </thead>\n",
       "  <tbody>\n",
       "    <tr>\n",
       "      <th>0</th>\n",
       "      <td>Bronx</td>\n",
       "      <td>75.276498</td>\n",
       "    </tr>\n",
       "    <tr>\n",
       "      <th>1</th>\n",
       "      <td>Brooklyn</td>\n",
       "      <td>127.747378</td>\n",
       "    </tr>\n",
       "    <tr>\n",
       "      <th>2</th>\n",
       "      <td>Manhattan</td>\n",
       "      <td>183.664286</td>\n",
       "    </tr>\n",
       "    <tr>\n",
       "      <th>3</th>\n",
       "      <td>Queens</td>\n",
       "      <td>96.857233</td>\n",
       "    </tr>\n",
       "    <tr>\n",
       "      <th>4</th>\n",
       "      <td>Staten Island</td>\n",
       "      <td>146.166667</td>\n",
       "    </tr>\n",
       "  </tbody>\n",
       "</table>\n",
       "</div>"
      ],
      "text/plain": [
       "        variable  coefficient\n",
       "0          Bronx    75.276498\n",
       "1       Brooklyn   127.747378\n",
       "2      Manhattan   183.664286\n",
       "3         Queens    96.857233\n",
       "4  Staten Island   146.166667"
      ]
     },
     "execution_count": 16,
     "metadata": {},
     "output_type": "execute_result"
    }
   ],
   "source": [
    "y = df['Price']\n",
    "x = pd.get_dummies(df['Neighbourhood '], dtype='int')\n",
    "from sklearn import linear_model\n",
    "regression = linear_model.LinearRegression(fit_intercept=False).fit(x,y)\n",
    "\n",
    "coef = pd.DataFrame({'variable':regression.feature_names_in_, 'coefficient': regression.coef_})\n",
    "coef"
   ]
  },
  {
   "cell_type": "markdown",
   "id": "54832bda-89bd-4f32-a785-64bc60932268",
   "metadata": {},
   "source": [
    "> I see that the coefficients mirror the means we came up with in part 1. The coefficients in a regression of a continuous variable on one categorical variable must be equal to the means of a variable when grouped by a categorical variable."
   ]
  },
  {
   "cell_type": "markdown",
   "id": "0774f59c-3af1-48e9-b203-1dcbc873d543",
   "metadata": {},
   "source": [
    "3. Repeat part 2, but leave an intercept in the linear model. How do you have to handle the creation of the dummies differently? What is the intercept? Interpret the coefficients. How can I get the coefficients in part 2 from these new coefficients?"
   ]
  },
  {
   "cell_type": "code",
   "execution_count": 17,
   "id": "c94db612-884e-41ca-b0ea-de5e2a178709",
   "metadata": {
    "tags": []
   },
   "outputs": [
    {
     "data": {
      "text/html": [
       "<div>\n",
       "<style scoped>\n",
       "    .dataframe tbody tr th:only-of-type {\n",
       "        vertical-align: middle;\n",
       "    }\n",
       "\n",
       "    .dataframe tbody tr th {\n",
       "        vertical-align: top;\n",
       "    }\n",
       "\n",
       "    .dataframe thead th {\n",
       "        text-align: right;\n",
       "    }\n",
       "</style>\n",
       "<table border=\"1\" class=\"dataframe\">\n",
       "  <thead>\n",
       "    <tr style=\"text-align: right;\">\n",
       "      <th></th>\n",
       "      <th>variable</th>\n",
       "      <th>coefficient</th>\n",
       "    </tr>\n",
       "  </thead>\n",
       "  <tbody>\n",
       "    <tr>\n",
       "      <th>0</th>\n",
       "      <td>Brooklyn</td>\n",
       "      <td>52.470881</td>\n",
       "    </tr>\n",
       "    <tr>\n",
       "      <th>1</th>\n",
       "      <td>Manhattan</td>\n",
       "      <td>108.387789</td>\n",
       "    </tr>\n",
       "    <tr>\n",
       "      <th>2</th>\n",
       "      <td>Queens</td>\n",
       "      <td>21.580735</td>\n",
       "    </tr>\n",
       "    <tr>\n",
       "      <th>3</th>\n",
       "      <td>Staten Island</td>\n",
       "      <td>70.890169</td>\n",
       "    </tr>\n",
       "  </tbody>\n",
       "</table>\n",
       "</div>"
      ],
      "text/plain": [
       "        variable  coefficient\n",
       "0       Brooklyn    52.470881\n",
       "1      Manhattan   108.387789\n",
       "2         Queens    21.580735\n",
       "3  Staten Island    70.890169"
      ]
     },
     "execution_count": 17,
     "metadata": {},
     "output_type": "execute_result"
    }
   ],
   "source": [
    "y = df['Price']\n",
    "x = pd.get_dummies(df['Neighbourhood '], dtype='int', drop_first = True)\n",
    "regression = linear_model.LinearRegression(fit_intercept=True).fit(x,y)\n",
    "\n",
    "coef = pd.DataFrame({'variable':regression.feature_names_in_, 'coefficient': regression.coef_})\n",
    "coef"
   ]
  },
  {
   "cell_type": "markdown",
   "id": "55c1a5fa-8dce-46ff-a220-595a86e5067a",
   "metadata": {},
   "source": [
    "> In the creation of the dummies, I had to make sure to drop the first category (the Bronx) as with the fit incerpert set to True, the regression tool needed a non-zero value to set the intercept equal to, thus making the Bronx category's regression coefficient from the previous section equal to the intercept. The value of the coefficient is thus 75.276498. By setting the intercept equal to the Bronx's regression coefficient, the resulting coefficients are now based off the Bronx, allowing for a straight comparison of each bourough to the Bronx. To get the coefficients in part 2 from these coefficients, I would just need to add the intercept value."
   ]
  },
  {
   "cell_type": "markdown",
   "id": "491743f9-6a18-45fa-bb82-8eb5c987b1fa",
   "metadata": {},
   "source": [
    "4. Split the sample 80/20 into a training and a test set. Run a regression of `Price` on `Review Scores Rating` and `Neighbourhood `. What is the $R^2$ and RMSE on the test set? What is the coefficient on `Review Scores Rating`? What is the most expensive kind of property you can rent?\n"
   ]
  },
  {
   "cell_type": "code",
   "execution_count": 20,
   "id": "761fcaeb-5cd8-4d20-9b84-0f342b0e2d5c",
   "metadata": {
    "tags": []
   },
   "outputs": [
    {
     "name": "stdout",
     "output_type": "stream",
     "text": [
      "R^2:  0.06701086106947296\n",
      "RMSE:  125.01092061382933\n"
     ]
    },
    {
     "data": {
      "text/html": [
       "<div>\n",
       "<style scoped>\n",
       "    .dataframe tbody tr th:only-of-type {\n",
       "        vertical-align: middle;\n",
       "    }\n",
       "\n",
       "    .dataframe tbody tr th {\n",
       "        vertical-align: top;\n",
       "    }\n",
       "\n",
       "    .dataframe thead th {\n",
       "        text-align: right;\n",
       "    }\n",
       "</style>\n",
       "<table border=\"1\" class=\"dataframe\">\n",
       "  <thead>\n",
       "    <tr style=\"text-align: right;\">\n",
       "      <th></th>\n",
       "      <th>variable</th>\n",
       "      <th>coefficient</th>\n",
       "    </tr>\n",
       "  </thead>\n",
       "  <tbody>\n",
       "    <tr>\n",
       "      <th>0</th>\n",
       "      <td>Review Scores Rating</td>\n",
       "      <td>1.032257</td>\n",
       "    </tr>\n",
       "    <tr>\n",
       "      <th>1</th>\n",
       "      <td>Bronx</td>\n",
       "      <td>-17.261392</td>\n",
       "    </tr>\n",
       "    <tr>\n",
       "      <th>2</th>\n",
       "      <td>Brooklyn</td>\n",
       "      <td>32.180888</td>\n",
       "    </tr>\n",
       "    <tr>\n",
       "      <th>3</th>\n",
       "      <td>Manhattan</td>\n",
       "      <td>89.421020</td>\n",
       "    </tr>\n",
       "    <tr>\n",
       "      <th>4</th>\n",
       "      <td>Queens</td>\n",
       "      <td>4.050208</td>\n",
       "    </tr>\n",
       "    <tr>\n",
       "      <th>5</th>\n",
       "      <td>Staten Island</td>\n",
       "      <td>61.576393</td>\n",
       "    </tr>\n",
       "  </tbody>\n",
       "</table>\n",
       "</div>"
      ],
      "text/plain": [
       "               variable  coefficient\n",
       "0  Review Scores Rating     1.032257\n",
       "1                 Bronx   -17.261392\n",
       "2              Brooklyn    32.180888\n",
       "3             Manhattan    89.421020\n",
       "4                Queens     4.050208\n",
       "5         Staten Island    61.576393"
      ]
     },
     "execution_count": 20,
     "metadata": {},
     "output_type": "execute_result"
    }
   ],
   "source": [
    "from sklearn.model_selection import train_test_split\n",
    "\n",
    "x = df.loc[:,['Review Scores Rating', 'Neighbourhood '] ]\n",
    "X_train, X_test, y_train, y_test = train_test_split(x,y, test_size=.2, random_state=100)\n",
    "\n",
    "Z_train = pd.concat([X_train['Review Scores Rating'], pd.get_dummies(X_train['Neighbourhood '], dtype='int')], axis = 1)\n",
    "Z_test = pd.concat([X_test['Review Scores Rating'], pd.get_dummies(X_test['Neighbourhood '], dtype='int')], axis = 1)\n",
    "\n",
    "regression = linear_model.LinearRegression(fit_intercept=False).fit(Z_train,y_train)\n",
    "print('R^2: ', regression.score(Z_test,y_test))\n",
    "\n",
    "y_hat = regression.predict(Z_test)\n",
    "rmse = np.sqrt( np.mean( (y_test - y_hat)**2 ))\n",
    "print('RMSE: ', rmse)\n",
    "\n",
    "coef = pd.DataFrame({'variable':regression.feature_names_in_, 'coefficient': regression.coef_})\n",
    "coef"
   ]
  },
  {
   "cell_type": "markdown",
   "id": "68b8d19d-59a5-4bfc-9075-a8888f1d46d9",
   "metadata": {},
   "source": [
    ">The most expensive type of property you can get is a top rated one for about 190$."
   ]
  },
  {
   "cell_type": "markdown",
   "id": "b540e77d-2394-4119-88b9-4236d2c3f002",
   "metadata": {},
   "source": [
    "5. Split the sample 80/20 into a training and a test set. Run a regression of `Price` on `Review Scores Rating` and `Neighbourhood ` and `Property Type`. What is the $R^2$ and RMSE on the test set? What is the coefficient on `Review Scores Rating`? What is the most expensive kind of property you can rent?"
   ]
  },
  {
   "cell_type": "code",
   "execution_count": 21,
   "id": "1eee86aa-602b-4082-9bf2-bff13e9ea7b6",
   "metadata": {
    "tags": []
   },
   "outputs": [
    {
     "name": "stdout",
     "output_type": "stream",
     "text": [
      "R^2:  0.22035348129282317\n",
      "RMSE:  114.27692123130633\n"
     ]
    },
    {
     "data": {
      "text/html": [
       "<div>\n",
       "<style scoped>\n",
       "    .dataframe tbody tr th:only-of-type {\n",
       "        vertical-align: middle;\n",
       "    }\n",
       "\n",
       "    .dataframe tbody tr th {\n",
       "        vertical-align: top;\n",
       "    }\n",
       "\n",
       "    .dataframe thead th {\n",
       "        text-align: right;\n",
       "    }\n",
       "</style>\n",
       "<table border=\"1\" class=\"dataframe\">\n",
       "  <thead>\n",
       "    <tr style=\"text-align: right;\">\n",
       "      <th></th>\n",
       "      <th>variable</th>\n",
       "      <th>coefficient</th>\n",
       "    </tr>\n",
       "  </thead>\n",
       "  <tbody>\n",
       "    <tr>\n",
       "      <th>0</th>\n",
       "      <td>Review Scores Rating</td>\n",
       "      <td>0.626912</td>\n",
       "    </tr>\n",
       "    <tr>\n",
       "      <th>1</th>\n",
       "      <td>Bronx</td>\n",
       "      <td>-13.022765</td>\n",
       "    </tr>\n",
       "    <tr>\n",
       "      <th>2</th>\n",
       "      <td>Brooklyn</td>\n",
       "      <td>10.378456</td>\n",
       "    </tr>\n",
       "    <tr>\n",
       "      <th>3</th>\n",
       "      <td>Manhattan</td>\n",
       "      <td>53.693304</td>\n",
       "    </tr>\n",
       "    <tr>\n",
       "      <th>4</th>\n",
       "      <td>Queens</td>\n",
       "      <td>-6.833330</td>\n",
       "    </tr>\n",
       "    <tr>\n",
       "      <th>5</th>\n",
       "      <td>Staten Island</td>\n",
       "      <td>50.003022</td>\n",
       "    </tr>\n",
       "    <tr>\n",
       "      <th>6</th>\n",
       "      <td>Entire home/apt</td>\n",
       "      <td>110.617820</td>\n",
       "    </tr>\n",
       "    <tr>\n",
       "      <th>7</th>\n",
       "      <td>Private room</td>\n",
       "      <td>3.101341</td>\n",
       "    </tr>\n",
       "    <tr>\n",
       "      <th>8</th>\n",
       "      <td>Shared room</td>\n",
       "      <td>-19.500474</td>\n",
       "    </tr>\n",
       "  </tbody>\n",
       "</table>\n",
       "</div>"
      ],
      "text/plain": [
       "               variable  coefficient\n",
       "0  Review Scores Rating     0.626912\n",
       "1                 Bronx   -13.022765\n",
       "2              Brooklyn    10.378456\n",
       "3             Manhattan    53.693304\n",
       "4                Queens    -6.833330\n",
       "5         Staten Island    50.003022\n",
       "6       Entire home/apt   110.617820\n",
       "7          Private room     3.101341\n",
       "8           Shared room   -19.500474"
      ]
     },
     "execution_count": 21,
     "metadata": {},
     "output_type": "execute_result"
    }
   ],
   "source": [
    "y = df['Price']\n",
    "x = df.loc[:,['Review Scores Rating', 'Neighbourhood ', 'Room Type'] ]\n",
    "X_train, X_test, y_train, y_test = train_test_split(x,y,test_size=.2, random_state=100)\n",
    "\n",
    "Z_train = pd.concat([X_train['Review Scores Rating'], pd.get_dummies(X_train['Neighbourhood '], dtype='int'), pd.get_dummies(X_train['Room Type'], dtype='int')], axis = 1)\n",
    "Z_test = pd.concat([X_test['Review Scores Rating'], pd.get_dummies(X_test['Neighbourhood '], dtype='int'), pd.get_dummies(X_test['Room Type'], dtype='int')], axis = 1)\n",
    "regression = linear_model.LinearRegression(fit_intercept=False).fit(Z_train,y_train)\n",
    "print('R^2: ', regression.score(Z_test,y_test))\n",
    "y_hat = regression.predict(Z_test)\n",
    "rmse = np.sqrt( np.mean( (y_test - y_hat)**2 ))\n",
    "print('RMSE: ', rmse)\n",
    "coef = pd.DataFrame({'variable':regression.feature_names_in_, 'coefficient': regression.coef_})\n",
    "coef"
   ]
  },
  {
   "cell_type": "markdown",
   "id": "f53e7b6d-45eb-48d7-8a16-a0e444558485",
   "metadata": {},
   "source": [
    "> The most expensive kind of property you can get is an entire home/apt in Manhattan for about 170$."
   ]
  },
  {
   "cell_type": "markdown",
   "id": "009dfc05-f209-4bd4-b2a8-09e9bca1c53c",
   "metadata": {},
   "source": [
    "6. What does the coefficient on `Review Scores Rating` mean if it changes from part 4 to 5? Hint: Think about how multilple linear regression works."
   ]
  },
  {
   "cell_type": "markdown",
   "id": "3a4246d5-0d5c-4337-8487-bb20ff12d417",
   "metadata": {},
   "source": [
    "> The coefficient changing from part 4 to 5 stems from the addition of the different room types in the part 5 regression analysis. With more variables to base the regression analysis on, the variation in prices across neighborhoods is also explained by the types of rooms in those neighborhoods, which in turn reduces the power of the review scores rating in prediction, and thus its coefficient."
   ]
  },
  {
   "cell_type": "markdown",
   "id": "95f22300-0180-4ed2-be8f-ed56cf4cd36b",
   "metadata": {
    "id": "95f22300-0180-4ed2-be8f-ed56cf4cd36b"
   },
   "source": [
    "**Q2.** This question is a case study for linear models. The data are about car prices. In particular, they include:\n",
    "\n",
    "  - `Price`, `Color`, `Seating_Capacity`\n",
    "  - `Body_Type`: crossover, hatchback, muv, sedan, suv\n",
    "  - `Make`, `Make_Year`: The brand of car and year produced\n",
    "  - `Mileage_Run`: The number of miles on the odometer\n",
    "  - `Fuel_Type`: Diesel or gasoline/petrol\n",
    "  - `Transmission`, `Transmission_Type`:  speeds and automatic/manual\n",
    "\n",
    "  1. Load `cars_hw.csv`. These data were really dirty, and I've already cleaned them a significant amount in terms of missing values and other issues, but some issues remain (e.g. outliers, badly scaled variables that require a log or arcsinh transformation). Clean the data however you think is most appropriate.\n",
    "  2. Summarize the `Price` variable and create a kernel density plot. Use `.groupby()` and `.describe()` to summarize prices by brand (`Make`). Make a grouped kernel density plot by `Make`. Which car brands are the most expensive? What do prices look like in general?\n",
    "  3. Split the data into an 80% training set and a 20% testing set.\n",
    "  4. Make a model where you regress price on the numeric variables alone; what is the $R^2$ and `RMSE` on the training set and test set? Make a second model where, for the categorical variables, you regress price on a model comprised of one-hot encoded regressors/features alone (you can use `pd.get_dummies()`; be careful of the dummy variable trap); what is the $R^2$ and `RMSE` on the test set? Which model performs better on the test set? Make a third model that combines all the regressors from the previous two; what is the $R^2$ and `RMSE` on the test set? Does the joint model perform better or worse, and by home much?\n",
    "  5. Use the `PolynomialFeatures` function from `sklearn` to expand the set of numerical variables you're using in the regression. As you increase the degree of the expansion, how do the $R^2$ and `RMSE` change? At what point does $R^2$ go negative on the test set? For your best model with expanded features, what is the $R^2$ and `RMSE`? How does it compare to your best model from part 4?\n",
    "  6. For your best model so far, determine the predicted values for the test data and plot them against the true values. Do the predicted values and true values roughly line up along the diagonal, or not? Compute the residuals/errors for the test data and create a kernel density plot. Do the residuals look roughly bell-shaped around zero? Evaluate the strengths and weaknesses of your model."
   ]
  },
  {
   "cell_type": "markdown",
   "id": "7bd15c6b-4c7c-4230-a199-e03e1054ec6a",
   "metadata": {
    "id": "7bd15c6b-4c7c-4230-a199-e03e1054ec6a"
   },
   "source": [
    "**Q3.** This is a question about linear regression. The outcome is whether a defendant is held pre-trial in the Virginia justice system. We would like to understand how that outcome is predicted by characteristics of the defendant, particularly race. Let's be very careful/clear: We aren't saying anyone *should* be held without bond or asserting that people with different demographic variables *should* be more likely to be held, but instead trying to predict whether people with different characteristics *are empirically more likely* to be held without bond, given the available information. This is the first step we would take in investigating whether a system is fair, or how large the disparities are: Does it treat people with similar observable characteristics similarly, or not? We are going to look at a common question: Are Black defendants treated differently from white or Asian ones? (There are Native American defendants, but there are 11 in total, which is such a small number of observations that is difficult to clearly say anything about how this group is treated relative to the others.)\n",
    "\n",
    "The variables in the data are:\n",
    "\n",
    "  - `held_wo_bail`: Whether a defendant is held without bail before trial (Boolean logical)\n",
    "  - `race`, `sex`: Categorical demographic variables\n",
    "  - `is_poor`: Whether the defendant is classified as indigent\n",
    "  - `prior_F`, `prior_M`: The number of prior felony and misdemeanor arrests\n",
    "  - `case_type`: A categorical variable indicating a misdemeanor `M` or felony `F` or infraction `I` or special case `S`\n",
    "  - `age`: Defendant's age\n",
    "  - `bond`, `bond_NA`, `bond_type`: The amount of any bond, whether it is missing, and the type\n",
    "  - `sentence`, `sentence_NA`, `sentence_type`: The length of any sentence, whether it is missing, and the type\n",
    "\n",
    "1. Load the `pretrial_data.csv` data. Notice that there are `nan`s, but the data are relatively clean. Because there are `.nan`s among variables you won't use, you'll want to narrow down your analysis to the relevant variables before dropping or imputing missing values.\n",
    "2. Create a dummy variable indicating that the defendant is Black.\n",
    "3. Regress `held` on `Black`. What is the slope coefficient Interpret the coefficient on the Black dummy variable: How much more likely is a black person to be held without bail? What is the $R^2$ of the model?\n",
    "4. Before doing this question, please think for a few minutes about how to make the process of running the following regressions as efficient as possible, before jumping into writing code. Repeat part 2, for the following specifications, keeping track of the coefficient on the Black dummy variable each time:\n",
    "      - `held` on `Black` and `sex`\n",
    "      - `held` on `Black` and `sex` and `is_poor`\n",
    "      - `held` on `Black` and `sex` and `is_poor` and `prior_F`\n",
    "      - `held` on `Black` and `sex` and `is_poor` and `prior_F` and `case_type`\n",
    "What happens to the coefficient on the Black dummy variable as you include more regressors/features/controls in the regression? Explain your findings.\n",
    "5. Suppose we don't want to see just `Black` and `sex`, but `Black` interacted with `sex`: Are Black men and Black women treated systemically differently from the rest of the population? Implement this in a regression, and explain your findings.\n",
    "6. Imagine someone argued we should use these kinds of models to help a judge or magistrate make bail decisions (you could obviously go back and make this kind of model for the bond and sentence variables, then deploy it on new cases to predict what their bond and sentence values would be). What concerns would you have? Do you think society should be using data-driven and automated tools like that? Explain your concerns clearly."
   ]
  },
  {
   "cell_type": "markdown",
   "id": "d0bedb79-b3d9-4db3-9b30-b92c9b618cec",
   "metadata": {
    "id": "d0bedb79-b3d9-4db3-9b30-b92c9b618cec"
   },
   "source": [
    "**Q4.** This is a math question to review the derivation of the OLS estimator (but only if you are into that kind of thing!). We are going to do it slightly differently from what we did in class, though. We will use a linear predictor and minimize the Sum of Squared Errors, just as in class. But, we are going to de-mean $X$ first, creating another variable $z_i = x_i - \\bar{x}$ where\n",
    "$$\n",
    "\\bar{x} = \\dfrac{1}{N} \\sum_{i=1}^N x_i,\n",
    "$$\n",
    "so the model is $\\hat{y}_i = a + b z_i$ and the `SSE` is\n",
    "$$\n",
    "\\text{SSE}(a,b) = \\sum_{i=1}^N (y_i - a - bz_i)^2.\n",
    "$$\n",
    "\n",
    "  1. Take partial derivatives of the `SSE` with respect to $a$ and $b$. You should get\n",
    "\n",
    "\\begin{alignat*}{3}\n",
    "\\sum_{i=1}^N -2(y_i - a- bz_i) &=& 0 \\\\\n",
    "\\sum_{i=1}^N -2(y_i - a - bz_i)z_i &=& 0.\n",
    "\\end{alignat*}\n",
    "\n",
    "  2. Solve for the solutions to the above equations. Big hint: $\\bar{z} = 0$, since we subtracted the mean of $x$ from $x$ to get $z$. You should get\n",
    "\n",
    "\\begin{alignat*}{3}\n",
    "a^* &=& \\bar{y} \\\\\n",
    "b^* &=& \\dfrac{\\sum_{i=1}^N(y_i - \\bar{y})z_i}{\\sum_{i=1}^N z_i^2}.\n",
    "\\end{alignat*}\n",
    "\n",
    "  3. Substitute $z_i = x_i - \\bar{x}$ back into the above equations. You should get\n",
    "  \n",
    "\\begin{alignat*}{3}\n",
    "a^* &=& \\bar{y} \\\\\n",
    "b^* &=& \\dfrac{\\sum_{i=1}^N(y_i - \\bar{y})(x_i-\\bar{x})}{\\sum_{i=1}^N (x_i-\\bar{x})^2},\n",
    "\\end{alignat*}\n",
    "\n",
    "which can be written in terms of sample covariance and sample variance as:\n",
    "\n",
    "\\begin{alignat*}{3}\n",
    "a^* &=& \\bar{y} \\\\\n",
    "b^* &=& \\dfrac{\\text{cov}(x,y)}{\\text{var}(x)}.\n",
    "\\end{alignat*}\n",
    "\n",
    "This is typically the preferred way of expressing the OLS coefficients.\n",
    "\n",
    "4. When will $b^*$ be large or small, depending on the relationship between $x$ and $y$ and the amount of \"noise\"/variance in $x$? What does $a^*$ represent?\n",
    "5. Suppose you have measurement error in $x$ which artificially inflates its variance (e.g. bad data cleaning). What happens to the $b^*$ coefficient? How will affect your ability to predict? (This phenomenon is called **attenuation**.)"
   ]
  },
  {
   "cell_type": "markdown",
   "id": "b67478ac-ad78-4a44-9720-583c71b8da14",
   "metadata": {
    "id": "b67478ac-ad78-4a44-9720-583c71b8da14"
   },
   "source": [
    "**Q5.**\n",
    "1. Find a dataset on a topic you're interested in. Some easy options are data.gov, kaggle.com, and data.world.\n",
    "2. Clean the data and do some exploratory data analysis on key variables that interest you. Pick a particular target/outcome variable and features/predictors.\n",
    "3. Split the sample into an ~80% training set and a ~20% test set.\n",
    "4. Run a few regressions of your target/outcome variable on a variety of features/predictors. Compute the SSE on the test set.\n",
    "5. Which model performed the best, and why?\n",
    "6. What did you learn?"
   ]
  }
 ],
 "metadata": {
  "colab": {
   "provenance": []
  },
  "kernelspec": {
   "display_name": "Python 3 (ipykernel)",
   "language": "python",
   "name": "python3"
  },
  "language_info": {
   "codemirror_mode": {
    "name": "ipython",
    "version": 3
   },
   "file_extension": ".py",
   "mimetype": "text/x-python",
   "name": "python",
   "nbconvert_exporter": "python",
   "pygments_lexer": "ipython3",
   "version": "3.11.4"
  }
 },
 "nbformat": 4,
 "nbformat_minor": 5
}
